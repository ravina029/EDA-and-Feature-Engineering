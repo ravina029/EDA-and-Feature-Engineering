{
 "cells": [
  {
   "cell_type": "code",
   "execution_count": 11,
   "id": "b121419d",
   "metadata": {},
   "outputs": [],
   "source": [
    "import pandas as pd \n",
    "import numpy as np \n",
    "import matplotlib.pyplot as plt\n",
    "import seaborn as sns\n"
   ]
  },
  {
   "cell_type": "code",
   "execution_count": 12,
   "id": "7ad7b1bb",
   "metadata": {},
   "outputs": [],
   "source": [
    "df=pd.read_csv(\"/Users/ravina/Desktop/Air Conditioners.csv\")"
   ]
  },
  {
   "cell_type": "markdown",
   "id": "b2cd4d7c",
   "metadata": {},
   "source": [
    "# Goal: our goal is to find out the best product at discount 👀👀"
   ]
  },
  {
   "cell_type": "code",
   "execution_count": 51,
   "id": "715074a1",
   "metadata": {},
   "outputs": [
    {
     "data": {
      "text/html": [
       "<div>\n",
       "<style scoped>\n",
       "    .dataframe tbody tr th:only-of-type {\n",
       "        vertical-align: middle;\n",
       "    }\n",
       "\n",
       "    .dataframe tbody tr th {\n",
       "        vertical-align: top;\n",
       "    }\n",
       "\n",
       "    .dataframe thead th {\n",
       "        text-align: right;\n",
       "    }\n",
       "</style>\n",
       "<table border=\"1\" class=\"dataframe\">\n",
       "  <thead>\n",
       "    <tr style=\"text-align: right;\">\n",
       "      <th></th>\n",
       "      <th>name</th>\n",
       "      <th>main_category</th>\n",
       "      <th>sub_category</th>\n",
       "      <th>image</th>\n",
       "      <th>link</th>\n",
       "      <th>ratings</th>\n",
       "      <th>no_of_ratings</th>\n",
       "      <th>discount_price</th>\n",
       "      <th>actual_price</th>\n",
       "    </tr>\n",
       "  </thead>\n",
       "  <tbody>\n",
       "    <tr>\n",
       "      <th>194</th>\n",
       "      <td>Voltas 2 Ton 3 Star, Fixed Speed Split AC (Cop...</td>\n",
       "      <td>appliances</td>\n",
       "      <td>Air Conditioners</td>\n",
       "      <td>https://m.media-amazon.com/images/I/41M7ocgxan...</td>\n",
       "      <td>https://www.amazon.in/Voltas-Anti-dust-243-Vec...</td>\n",
       "      <td>NaN</td>\n",
       "      <td>NaN</td>\n",
       "      <td>₹48,990</td>\n",
       "      <td>₹81,990</td>\n",
       "    </tr>\n",
       "    <tr>\n",
       "      <th>358</th>\n",
       "      <td>Voltas 1.5 Ton Inverter 5 Star Split AC (185V ...</td>\n",
       "      <td>appliances</td>\n",
       "      <td>Air Conditioners</td>\n",
       "      <td>https://m.media-amazon.com/images/W/IMAGERENDE...</td>\n",
       "      <td>https://www.amazon.in/Voltas-Inverter-Split-18...</td>\n",
       "      <td>NaN</td>\n",
       "      <td>NaN</td>\n",
       "      <td>NaN</td>\n",
       "      <td>NaN</td>\n",
       "    </tr>\n",
       "  </tbody>\n",
       "</table>\n",
       "</div>"
      ],
      "text/plain": [
       "                                                  name main_category  \\\n",
       "194  Voltas 2 Ton 3 Star, Fixed Speed Split AC (Cop...    appliances   \n",
       "358  Voltas 1.5 Ton Inverter 5 Star Split AC (185V ...    appliances   \n",
       "\n",
       "         sub_category                                              image  \\\n",
       "194  Air Conditioners  https://m.media-amazon.com/images/I/41M7ocgxan...   \n",
       "358  Air Conditioners  https://m.media-amazon.com/images/W/IMAGERENDE...   \n",
       "\n",
       "                                                  link ratings no_of_ratings  \\\n",
       "194  https://www.amazon.in/Voltas-Anti-dust-243-Vec...     NaN           NaN   \n",
       "358  https://www.amazon.in/Voltas-Inverter-Split-18...     NaN           NaN   \n",
       "\n",
       "    discount_price actual_price  \n",
       "194        ₹48,990      ₹81,990  \n",
       "358            NaN          NaN  "
      ]
     },
     "execution_count": 51,
     "metadata": {},
     "output_type": "execute_result"
    }
   ],
   "source": [
    "df.sample(2)"
   ]
  },
  {
   "cell_type": "code",
   "execution_count": 52,
   "id": "5b2daaec",
   "metadata": {},
   "outputs": [
    {
     "data": {
      "text/html": [
       "<div>\n",
       "<style scoped>\n",
       "    .dataframe tbody tr th:only-of-type {\n",
       "        vertical-align: middle;\n",
       "    }\n",
       "\n",
       "    .dataframe tbody tr th {\n",
       "        vertical-align: top;\n",
       "    }\n",
       "\n",
       "    .dataframe thead th {\n",
       "        text-align: right;\n",
       "    }\n",
       "</style>\n",
       "<table border=\"1\" class=\"dataframe\">\n",
       "  <thead>\n",
       "    <tr style=\"text-align: right;\">\n",
       "      <th></th>\n",
       "      <th>225</th>\n",
       "      <th>258</th>\n",
       "    </tr>\n",
       "  </thead>\n",
       "  <tbody>\n",
       "    <tr>\n",
       "      <th>name</th>\n",
       "      <td>FIDEL Tafta Heavy Duty Air Conditioner Outdoor...</td>\n",
       "      <td>Voltas 1.5 Ton 3 Star Adjustable Inverter Copp...</td>\n",
       "    </tr>\n",
       "    <tr>\n",
       "      <th>main_category</th>\n",
       "      <td>appliances</td>\n",
       "      <td>appliances</td>\n",
       "    </tr>\n",
       "    <tr>\n",
       "      <th>sub_category</th>\n",
       "      <td>Air Conditioners</td>\n",
       "      <td>Air Conditioners</td>\n",
       "    </tr>\n",
       "    <tr>\n",
       "      <th>image</th>\n",
       "      <td>https://m.media-amazon.com/images/W/IMAGERENDE...</td>\n",
       "      <td>https://m.media-amazon.com/images/W/IMAGERENDE...</td>\n",
       "    </tr>\n",
       "    <tr>\n",
       "      <th>link</th>\n",
       "      <td>https://www.amazon.in/FIDEL-Tafta-Conditioner-...</td>\n",
       "      <td>https://www.amazon.in/Voltas-Adjustable-Invert...</td>\n",
       "    </tr>\n",
       "    <tr>\n",
       "      <th>ratings</th>\n",
       "      <td>3.6</td>\n",
       "      <td>3.5</td>\n",
       "    </tr>\n",
       "    <tr>\n",
       "      <th>no_of_ratings</th>\n",
       "      <td>26</td>\n",
       "      <td>13</td>\n",
       "    </tr>\n",
       "    <tr>\n",
       "      <th>discount_price</th>\n",
       "      <td>₹699</td>\n",
       "      <td>₹35,990</td>\n",
       "    </tr>\n",
       "    <tr>\n",
       "      <th>actual_price</th>\n",
       "      <td>₹1,499</td>\n",
       "      <td>₹59,990</td>\n",
       "    </tr>\n",
       "  </tbody>\n",
       "</table>\n",
       "</div>"
      ],
      "text/plain": [
       "                                                              225  \\\n",
       "name            FIDEL Tafta Heavy Duty Air Conditioner Outdoor...   \n",
       "main_category                                          appliances   \n",
       "sub_category                                     Air Conditioners   \n",
       "image           https://m.media-amazon.com/images/W/IMAGERENDE...   \n",
       "link            https://www.amazon.in/FIDEL-Tafta-Conditioner-...   \n",
       "ratings                                                       3.6   \n",
       "no_of_ratings                                                  26   \n",
       "discount_price                                               ₹699   \n",
       "actual_price                                               ₹1,499   \n",
       "\n",
       "                                                              258  \n",
       "name            Voltas 1.5 Ton 3 Star Adjustable Inverter Copp...  \n",
       "main_category                                          appliances  \n",
       "sub_category                                     Air Conditioners  \n",
       "image           https://m.media-amazon.com/images/W/IMAGERENDE...  \n",
       "link            https://www.amazon.in/Voltas-Adjustable-Invert...  \n",
       "ratings                                                       3.5  \n",
       "no_of_ratings                                                  13  \n",
       "discount_price                                            ₹35,990  \n",
       "actual_price                                              ₹59,990  "
      ]
     },
     "execution_count": 52,
     "metadata": {},
     "output_type": "execute_result"
    }
   ],
   "source": [
    "df.sample(2).T"
   ]
  },
  {
   "cell_type": "code",
   "execution_count": 53,
   "id": "5347f1f3",
   "metadata": {},
   "outputs": [
    {
     "data": {
      "text/plain": [
       "name                0\n",
       "main_category       0\n",
       "sub_category        0\n",
       "image               0\n",
       "link                0\n",
       "ratings           287\n",
       "no_of_ratings     287\n",
       "discount_price    263\n",
       "actual_price      220\n",
       "dtype: int64"
      ]
     },
     "execution_count": 53,
     "metadata": {},
     "output_type": "execute_result"
    }
   ],
   "source": [
    "#finding the null values if any\n",
    "df.isna().sum() #or df.isnull().sum()"
   ]
  },
  {
   "cell_type": "code",
   "execution_count": 54,
   "id": "3cee6834",
   "metadata": {},
   "outputs": [
    {
     "name": "stdout",
     "output_type": "stream",
     "text": [
      "<class 'pandas.core.frame.DataFrame'>\n",
      "RangeIndex: 720 entries, 0 to 719\n",
      "Data columns (total 9 columns):\n",
      " #   Column          Non-Null Count  Dtype \n",
      "---  ------          --------------  ----- \n",
      " 0   name            720 non-null    object\n",
      " 1   main_category   720 non-null    object\n",
      " 2   sub_category    720 non-null    object\n",
      " 3   image           720 non-null    object\n",
      " 4   link            720 non-null    object\n",
      " 5   ratings         433 non-null    object\n",
      " 6   no_of_ratings   433 non-null    object\n",
      " 7   discount_price  457 non-null    object\n",
      " 8   actual_price    500 non-null    object\n",
      "dtypes: object(9)\n",
      "memory usage: 50.8+ KB\n"
     ]
    }
   ],
   "source": [
    "df.info()"
   ]
  },
  {
   "cell_type": "code",
   "execution_count": 55,
   "id": "89e597f1",
   "metadata": {},
   "outputs": [
    {
     "data": {
      "text/html": [
       "<div>\n",
       "<style scoped>\n",
       "    .dataframe tbody tr th:only-of-type {\n",
       "        vertical-align: middle;\n",
       "    }\n",
       "\n",
       "    .dataframe tbody tr th {\n",
       "        vertical-align: top;\n",
       "    }\n",
       "\n",
       "    .dataframe thead th {\n",
       "        text-align: right;\n",
       "    }\n",
       "</style>\n",
       "<table border=\"1\" class=\"dataframe\">\n",
       "  <thead>\n",
       "    <tr style=\"text-align: right;\">\n",
       "      <th></th>\n",
       "      <th>name</th>\n",
       "      <th>main_category</th>\n",
       "      <th>sub_category</th>\n",
       "      <th>image</th>\n",
       "      <th>link</th>\n",
       "      <th>ratings</th>\n",
       "      <th>no_of_ratings</th>\n",
       "      <th>discount_price</th>\n",
       "      <th>actual_price</th>\n",
       "    </tr>\n",
       "  </thead>\n",
       "  <tbody>\n",
       "    <tr>\n",
       "      <th>count</th>\n",
       "      <td>720</td>\n",
       "      <td>720</td>\n",
       "      <td>720</td>\n",
       "      <td>720</td>\n",
       "      <td>720</td>\n",
       "      <td>433</td>\n",
       "      <td>433</td>\n",
       "      <td>457</td>\n",
       "      <td>500</td>\n",
       "    </tr>\n",
       "    <tr>\n",
       "      <th>unique</th>\n",
       "      <td>708</td>\n",
       "      <td>1</td>\n",
       "      <td>1</td>\n",
       "      <td>635</td>\n",
       "      <td>720</td>\n",
       "      <td>31</td>\n",
       "      <td>187</td>\n",
       "      <td>295</td>\n",
       "      <td>296</td>\n",
       "    </tr>\n",
       "    <tr>\n",
       "      <th>top</th>\n",
       "      <td>Samsung 1.5 Ton 3 Star Wind-Free Technology In...</td>\n",
       "      <td>appliances</td>\n",
       "      <td>Air Conditioners</td>\n",
       "      <td>https://m.media-amazon.com/images/I/51JFb7FctD...</td>\n",
       "      <td>https://www.amazon.in/Lloyd-Inverter-Convertib...</td>\n",
       "      <td>4.0</td>\n",
       "      <td>1</td>\n",
       "      <td>₹39,990</td>\n",
       "      <td>₹59,990</td>\n",
       "    </tr>\n",
       "    <tr>\n",
       "      <th>freq</th>\n",
       "      <td>3</td>\n",
       "      <td>720</td>\n",
       "      <td>720</td>\n",
       "      <td>6</td>\n",
       "      <td>1</td>\n",
       "      <td>56</td>\n",
       "      <td>45</td>\n",
       "      <td>11</td>\n",
       "      <td>15</td>\n",
       "    </tr>\n",
       "  </tbody>\n",
       "</table>\n",
       "</div>"
      ],
      "text/plain": [
       "                                                     name main_category  \\\n",
       "count                                                 720           720   \n",
       "unique                                                708             1   \n",
       "top     Samsung 1.5 Ton 3 Star Wind-Free Technology In...    appliances   \n",
       "freq                                                    3           720   \n",
       "\n",
       "            sub_category                                              image  \\\n",
       "count                720                                                720   \n",
       "unique                 1                                                635   \n",
       "top     Air Conditioners  https://m.media-amazon.com/images/I/51JFb7FctD...   \n",
       "freq                 720                                                  6   \n",
       "\n",
       "                                                     link ratings  \\\n",
       "count                                                 720     433   \n",
       "unique                                                720      31   \n",
       "top     https://www.amazon.in/Lloyd-Inverter-Convertib...     4.0   \n",
       "freq                                                    1      56   \n",
       "\n",
       "       no_of_ratings discount_price actual_price  \n",
       "count            433            457          500  \n",
       "unique           187            295          296  \n",
       "top                1        ₹39,990      ₹59,990  \n",
       "freq              45             11           15  "
      ]
     },
     "execution_count": 55,
     "metadata": {},
     "output_type": "execute_result"
    }
   ],
   "source": [
    "df.describe()"
   ]
  },
  {
   "cell_type": "code",
   "execution_count": 56,
   "id": "27063cd7",
   "metadata": {},
   "outputs": [],
   "source": [
    "#droping the colum with more than 70% of missing data \n",
    "perc=70\n",
    "min_count=int(((100-perc)/100)*df.shape[1]+1)\n",
    "final_df=df.dropna(axis=1,thresh=min_count)"
   ]
  },
  {
   "cell_type": "code",
   "execution_count": 57,
   "id": "04aef716",
   "metadata": {},
   "outputs": [
    {
     "data": {
      "text/html": [
       "<div>\n",
       "<style scoped>\n",
       "    .dataframe tbody tr th:only-of-type {\n",
       "        vertical-align: middle;\n",
       "    }\n",
       "\n",
       "    .dataframe tbody tr th {\n",
       "        vertical-align: top;\n",
       "    }\n",
       "\n",
       "    .dataframe thead th {\n",
       "        text-align: right;\n",
       "    }\n",
       "</style>\n",
       "<table border=\"1\" class=\"dataframe\">\n",
       "  <thead>\n",
       "    <tr style=\"text-align: right;\">\n",
       "      <th></th>\n",
       "      <th>name</th>\n",
       "      <th>main_category</th>\n",
       "      <th>sub_category</th>\n",
       "      <th>image</th>\n",
       "      <th>link</th>\n",
       "      <th>ratings</th>\n",
       "      <th>no_of_ratings</th>\n",
       "      <th>discount_price</th>\n",
       "      <th>actual_price</th>\n",
       "    </tr>\n",
       "  </thead>\n",
       "  <tbody>\n",
       "    <tr>\n",
       "      <th>0</th>\n",
       "      <td>Lloyd 1.5 Ton 3 Star Inverter Split Ac (5 In 1...</td>\n",
       "      <td>appliances</td>\n",
       "      <td>Air Conditioners</td>\n",
       "      <td>https://m.media-amazon.com/images/I/31UISB90sY...</td>\n",
       "      <td>https://www.amazon.in/Lloyd-Inverter-Convertib...</td>\n",
       "      <td>4.2</td>\n",
       "      <td>2,255</td>\n",
       "      <td>₹32,999</td>\n",
       "      <td>₹58,990</td>\n",
       "    </tr>\n",
       "    <tr>\n",
       "      <th>1</th>\n",
       "      <td>LG 1.5 Ton 5 Star AI DUAL Inverter Split AC (C...</td>\n",
       "      <td>appliances</td>\n",
       "      <td>Air Conditioners</td>\n",
       "      <td>https://m.media-amazon.com/images/I/51JFb7FctD...</td>\n",
       "      <td>https://www.amazon.in/LG-Convertible-Anti-Viru...</td>\n",
       "      <td>4.2</td>\n",
       "      <td>2,948</td>\n",
       "      <td>₹46,490</td>\n",
       "      <td>₹75,990</td>\n",
       "    </tr>\n",
       "  </tbody>\n",
       "</table>\n",
       "</div>"
      ],
      "text/plain": [
       "                                                name main_category  \\\n",
       "0  Lloyd 1.5 Ton 3 Star Inverter Split Ac (5 In 1...    appliances   \n",
       "1  LG 1.5 Ton 5 Star AI DUAL Inverter Split AC (C...    appliances   \n",
       "\n",
       "       sub_category                                              image  \\\n",
       "0  Air Conditioners  https://m.media-amazon.com/images/I/31UISB90sY...   \n",
       "1  Air Conditioners  https://m.media-amazon.com/images/I/51JFb7FctD...   \n",
       "\n",
       "                                                link ratings no_of_ratings  \\\n",
       "0  https://www.amazon.in/Lloyd-Inverter-Convertib...     4.2         2,255   \n",
       "1  https://www.amazon.in/LG-Convertible-Anti-Viru...     4.2         2,948   \n",
       "\n",
       "  discount_price actual_price  \n",
       "0        ₹32,999      ₹58,990  \n",
       "1        ₹46,490      ₹75,990  "
      ]
     },
     "execution_count": 57,
     "metadata": {},
     "output_type": "execute_result"
    }
   ],
   "source": [
    "final_df.head(2)"
   ]
  },
  {
   "cell_type": "code",
   "execution_count": 58,
   "id": "d5499ae3",
   "metadata": {},
   "outputs": [
    {
     "data": {
      "text/plain": [
       "(720, 9)"
      ]
     },
     "execution_count": 58,
     "metadata": {},
     "output_type": "execute_result"
    }
   ],
   "source": [
    "final_df.shape"
   ]
  },
  {
   "cell_type": "code",
   "execution_count": 59,
   "id": "caeb6bf6",
   "metadata": {},
   "outputs": [],
   "source": [
    "# final_df==df #checking if final_df is same as df"
   ]
  },
  {
   "cell_type": "code",
   "execution_count": 60,
   "id": "aaa0e10b",
   "metadata": {},
   "outputs": [
    {
     "name": "stdout",
     "output_type": "stream",
     "text": [
      "<class 'pandas.core.frame.DataFrame'>\n",
      "RangeIndex: 720 entries, 0 to 719\n",
      "Data columns (total 9 columns):\n",
      " #   Column          Non-Null Count  Dtype \n",
      "---  ------          --------------  ----- \n",
      " 0   name            720 non-null    object\n",
      " 1   main_category   720 non-null    object\n",
      " 2   sub_category    720 non-null    object\n",
      " 3   image           720 non-null    object\n",
      " 4   link            720 non-null    object\n",
      " 5   ratings         433 non-null    object\n",
      " 6   no_of_ratings   433 non-null    object\n",
      " 7   discount_price  457 non-null    object\n",
      " 8   actual_price    500 non-null    object\n",
      "dtypes: object(9)\n",
      "memory usage: 50.8+ KB\n"
     ]
    }
   ],
   "source": [
    "final_df.info()"
   ]
  },
  {
   "cell_type": "markdown",
   "id": "fdf9c22a",
   "metadata": {},
   "source": [
    "# let's clean the datatype of the integer columns\n",
    "here the numerical columns ratings, no_of_ratings and discount price have object data type but we \n",
    "want to have it as int or float therefore let's change it to the correct datatype.\n",
    "\n"
   ]
  },
  {
   "cell_type": "code",
   "execution_count": 61,
   "id": "ca0ab221",
   "metadata": {},
   "outputs": [],
   "source": [
    "# removing the rupees sign \n",
    "final_df['discount_price']=final_df['discount_price'].str.split(\" \",expand=True).get(0).str.split(\"₹\",expand=True).get(1)\n",
    "final_df['actual_price']=final_df['actual_price'].str.split(\" \",expand=True).get(0).str.split(\"₹\",expand=True).get(1)"
   ]
  },
  {
   "cell_type": "code",
   "execution_count": 62,
   "id": "875889b6",
   "metadata": {},
   "outputs": [],
   "source": [
    "#change the comma to dot and chnge the type to float\n",
    "final_df['discount_price']=final_df['discount_price'].str.replace(',','').astype(float)\n",
    "final_df[\"actual_price\"] = final_df[\"actual_price\"].str.replace(',', '').astype(float)"
   ]
  },
  {
   "cell_type": "code",
   "execution_count": 63,
   "id": "027f9edd",
   "metadata": {},
   "outputs": [
    {
     "data": {
      "text/plain": [
       "array(['4.2', '4.0', '4.1', '4.3', '3.9', '3.8', '3.5', nan, '4.6', '3.3',\n",
       "       '3.4', '3.7', '2.9', '5.0', '4.4', '3.6', '2.7', '4.5', '3.0',\n",
       "       '3.1', '3.2', '4.8', '4.7', '2.5', '1.0', '2.6', '2.8', '2.3',\n",
       "       '1.7', 'Get', '1.8', '2.4'], dtype=object)"
      ]
     },
     "execution_count": 63,
     "metadata": {},
     "output_type": "execute_result"
    }
   ],
   "source": [
    "final_df['ratings'].unique()"
   ]
  },
  {
   "cell_type": "code",
   "execution_count": 64,
   "id": "b96b070a",
   "metadata": {},
   "outputs": [],
   "source": [
    "#final_df['ratings']"
   ]
  },
  {
   "cell_type": "code",
   "execution_count": 65,
   "id": "1e887413",
   "metadata": {},
   "outputs": [
    {
     "data": {
      "text/plain": [
       "array([4.2, 4. , 4.1, 4.3, 3.9, 3.8, 3.5, 0. , 4.6, 3.3, 3.4, 3.7, 2.9,\n",
       "       5. , 4.4, 3.6, 2.7, 4.5, 3. , 3.1, 3.2, 4.8, 4.7, 2.5, 1. , 2.6,\n",
       "       2.8, 2.3, 1.7, 1.8, 2.4])"
      ]
     },
     "execution_count": 65,
     "metadata": {},
     "output_type": "execute_result"
    }
   ],
   "source": [
    "final_df['ratings']=final_df['ratings'].replace(['Get'],'0.0')\n",
    "final_df['ratings'].fillna(0.0, inplace=True)\n",
    "final_df['ratings']=final_df['ratings'].astype(float)\n",
    "\n",
    "final_df['ratings'].unique()"
   ]
  },
  {
   "cell_type": "code",
   "execution_count": 66,
   "id": "2ef1a52b",
   "metadata": {},
   "outputs": [
    {
     "data": {
      "text/plain": [
       "dtype('float64')"
      ]
     },
     "execution_count": 66,
     "metadata": {},
     "output_type": "execute_result"
    }
   ],
   "source": [
    "final_df['ratings'].dtype"
   ]
  },
  {
   "cell_type": "code",
   "execution_count": 67,
   "id": "c12e81b8",
   "metadata": {},
   "outputs": [
    {
     "data": {
      "text/plain": [
       "array(['2,255', '2,948', '1,206', '69', '630', '1,666', '1,097', '1,494',\n",
       "       '674', '801', '558', '730', '5,073', '568', '3,670', '312', '88',\n",
       "       '432', '268', '2', '700', '540', '258', '2,178', nan, '1,444',\n",
       "       '360', '38', '1,208', '341', '3', '15', '925', '3,604', '42', '22',\n",
       "       '94', '1,866', '292', '1,830', '8', '536', '201', '2,722', '202',\n",
       "       '23', '1,195', '5', '66', '474', '502', '686', '1,183', '56', '1',\n",
       "       '49', '212', '79', '468', '317', '45', '142', '451', '145', '265',\n",
       "       '3,157', '274', '39', '178', '655', '81', '43', '234', '134', '97',\n",
       "       '229', '12', '748', '926', '62', '14', '440', '85', '260', '118',\n",
       "       '172', '387', '195', '7', '158', '9', '10', '1,295', '16', '303',\n",
       "       '120', '55', '27', '34', '37', '1,573', '29', '6', '112', '200',\n",
       "       '11', '121', '886', '209', '4', '207', '622', '31', '192', '40',\n",
       "       '101', '96', '70', '259', '1,400', '288', '13', '51', '175', '114',\n",
       "       '567', '187', '21', '1,832', '563', '24', '769', '542', '297',\n",
       "       '329', '20', '156', '26', '485', '9,577', '302', '255', '1,420',\n",
       "       '169', '3,562', '224', '25', '449', '218', '913', '373', '776',\n",
       "       '60', '54', '19', '74', '17', '213', '430', '591', '247', '41',\n",
       "       '222', '71', '290', '65', '18', '32', '130', '416', '64', '119',\n",
       "       '59', '68', '36', '164', '77', '47', '98', 'Only 2 left in stock.',\n",
       "       'Only 1 left in stock.', '581', '398', '774', '232', '44', '50',\n",
       "       '296'], dtype=object)"
      ]
     },
     "execution_count": 67,
     "metadata": {},
     "output_type": "execute_result"
    }
   ],
   "source": [
    "final_df[\"no_of_ratings\"].unique()"
   ]
  },
  {
   "cell_type": "code",
   "execution_count": 68,
   "id": "1e1f85e7",
   "metadata": {},
   "outputs": [],
   "source": [
    "# Convert non-numeric values to NaN\n",
    "final_df['no_of_ratings'] = pd.to_numeric(final_df['no_of_ratings'], errors='coerce')\n",
    "\n",
    "# Replace NaN values with the median\n",
    "median_value = final_df['no_of_ratings'].median()\n",
    "final_df['no_of_ratings'].fillna(median_value, inplace=True)\n"
   ]
  },
  {
   "cell_type": "code",
   "execution_count": 69,
   "id": "42eaa3a9",
   "metadata": {},
   "outputs": [],
   "source": [
    "final_df['no_of_ratings'] = final_df['no_of_ratings'].replace(['Only 2 left in stock.','Only 1 left in stock.'],'med')\n",
    "\n"
   ]
  },
  {
   "cell_type": "code",
   "execution_count": 70,
   "id": "68418ad4",
   "metadata": {},
   "outputs": [
    {
     "data": {
      "text/plain": [
       "array([ 16.,  69., 630., 674., 801., 558., 730., 568., 312.,  88., 432.,\n",
       "       268.,   2., 700., 540., 258., 360.,  38., 341.,   3.,  15., 925.,\n",
       "        42.,  22.,  94., 292.,   8., 536., 201., 202.,  23.,   5.,  66.,\n",
       "       474., 502., 686.,  56.,   1.,  49., 212.,  79., 468., 317.,  45.,\n",
       "       142., 451., 145., 265., 274.,  39., 178., 655.,  81.,  43., 234.,\n",
       "       134.,  97., 229.,  12., 748., 926.,  62.,  14., 440.,  85., 260.,\n",
       "       118., 172., 387., 195.,   7., 158.,   9.,  10., 303., 120.,  55.,\n",
       "        27.,  34.,  37.,  29.,   6., 112., 200.,  11., 121., 886., 209.,\n",
       "         4., 207., 622.,  31., 192.,  40., 101.,  96.,  70., 259., 288.,\n",
       "        13.,  51., 175., 114., 567., 187.,  21., 563.,  24., 769., 542.,\n",
       "       297., 329.,  20., 156.,  26., 485., 302., 255., 169., 224.,  25.,\n",
       "       449., 218., 913., 373., 776.,  60.,  54.,  19.,  74.,  17., 213.,\n",
       "       430., 591., 247.,  41., 222.,  71., 290.,  65.,  18.,  32., 130.,\n",
       "       416.,  64., 119.,  59.,  68.,  36., 164.,  77.,  47.,  98., 581.,\n",
       "       398., 774., 232.,  44.,  50., 296.])"
      ]
     },
     "execution_count": 70,
     "metadata": {},
     "output_type": "execute_result"
    }
   ],
   "source": [
    "\n",
    "final_df['no_of_ratings'].unique()"
   ]
  },
  {
   "cell_type": "code",
   "execution_count": 71,
   "id": "a2af7ac4",
   "metadata": {},
   "outputs": [
    {
     "name": "stdout",
     "output_type": "stream",
     "text": [
      "<class 'pandas.core.frame.DataFrame'>\n",
      "RangeIndex: 720 entries, 0 to 719\n",
      "Data columns (total 9 columns):\n",
      " #   Column          Non-Null Count  Dtype  \n",
      "---  ------          --------------  -----  \n",
      " 0   name            720 non-null    object \n",
      " 1   main_category   720 non-null    object \n",
      " 2   sub_category    720 non-null    object \n",
      " 3   image           720 non-null    object \n",
      " 4   link            720 non-null    object \n",
      " 5   ratings         720 non-null    float64\n",
      " 6   no_of_ratings   720 non-null    float64\n",
      " 7   discount_price  457 non-null    float64\n",
      " 8   actual_price    500 non-null    float64\n",
      "dtypes: float64(4), object(5)\n",
      "memory usage: 50.8+ KB\n"
     ]
    }
   ],
   "source": [
    "final_df.info()"
   ]
  },
  {
   "cell_type": "code",
   "execution_count": 72,
   "id": "a38e105f",
   "metadata": {},
   "outputs": [
    {
     "data": {
      "text/html": [
       "<div>\n",
       "<style scoped>\n",
       "    .dataframe tbody tr th:only-of-type {\n",
       "        vertical-align: middle;\n",
       "    }\n",
       "\n",
       "    .dataframe tbody tr th {\n",
       "        vertical-align: top;\n",
       "    }\n",
       "\n",
       "    .dataframe thead th {\n",
       "        text-align: right;\n",
       "    }\n",
       "</style>\n",
       "<table border=\"1\" class=\"dataframe\">\n",
       "  <thead>\n",
       "    <tr style=\"text-align: right;\">\n",
       "      <th></th>\n",
       "      <th>name</th>\n",
       "      <th>main_category</th>\n",
       "      <th>sub_category</th>\n",
       "      <th>image</th>\n",
       "      <th>link</th>\n",
       "      <th>ratings</th>\n",
       "      <th>no_of_ratings</th>\n",
       "      <th>discount_price</th>\n",
       "      <th>actual_price</th>\n",
       "    </tr>\n",
       "  </thead>\n",
       "  <tbody>\n",
       "    <tr>\n",
       "      <th>0</th>\n",
       "      <td>Lloyd 1.5 Ton 3 Star Inverter Split Ac (5 In 1...</td>\n",
       "      <td>appliances</td>\n",
       "      <td>Air Conditioners</td>\n",
       "      <td>https://m.media-amazon.com/images/I/31UISB90sY...</td>\n",
       "      <td>https://www.amazon.in/Lloyd-Inverter-Convertib...</td>\n",
       "      <td>4.2</td>\n",
       "      <td>16.0</td>\n",
       "      <td>32999.0</td>\n",
       "      <td>58990.0</td>\n",
       "    </tr>\n",
       "    <tr>\n",
       "      <th>1</th>\n",
       "      <td>LG 1.5 Ton 5 Star AI DUAL Inverter Split AC (C...</td>\n",
       "      <td>appliances</td>\n",
       "      <td>Air Conditioners</td>\n",
       "      <td>https://m.media-amazon.com/images/I/51JFb7FctD...</td>\n",
       "      <td>https://www.amazon.in/LG-Convertible-Anti-Viru...</td>\n",
       "      <td>4.2</td>\n",
       "      <td>16.0</td>\n",
       "      <td>46490.0</td>\n",
       "      <td>75990.0</td>\n",
       "    </tr>\n",
       "  </tbody>\n",
       "</table>\n",
       "</div>"
      ],
      "text/plain": [
       "                                                name main_category  \\\n",
       "0  Lloyd 1.5 Ton 3 Star Inverter Split Ac (5 In 1...    appliances   \n",
       "1  LG 1.5 Ton 5 Star AI DUAL Inverter Split AC (C...    appliances   \n",
       "\n",
       "       sub_category                                              image  \\\n",
       "0  Air Conditioners  https://m.media-amazon.com/images/I/31UISB90sY...   \n",
       "1  Air Conditioners  https://m.media-amazon.com/images/I/51JFb7FctD...   \n",
       "\n",
       "                                                link  ratings  no_of_ratings  \\\n",
       "0  https://www.amazon.in/Lloyd-Inverter-Convertib...      4.2           16.0   \n",
       "1  https://www.amazon.in/LG-Convertible-Anti-Viru...      4.2           16.0   \n",
       "\n",
       "   discount_price  actual_price  \n",
       "0         32999.0       58990.0  \n",
       "1         46490.0       75990.0  "
      ]
     },
     "execution_count": 72,
     "metadata": {},
     "output_type": "execute_result"
    }
   ],
   "source": [
    "final_df.head(2)"
   ]
  },
  {
   "cell_type": "code",
   "execution_count": 73,
   "id": "6fd0c6f5",
   "metadata": {},
   "outputs": [
    {
     "data": {
      "image/png": "[encoded data removed]",
      "text/plain": [
       "<Figure size 640x480 with 1 Axes>"
      ]
     },
     "metadata": {},
     "output_type": "display_data"
    }
   ],
   "source": [
    "# plot the total missing values \n",
    "x = final_df.isna().sum()\n",
    "\n",
    "# Convert the index (column names) to a list\n",
    "categories = x.index.tolist()\n",
    "\n",
    "# Create a bar plot\n",
    "plt.bar(categories, x)\n",
    "\n",
    "# Add labels and title\n",
    "plt.xlabel('Columns')\n",
    "plt.ylabel('Number of NaN values')\n",
    "plt.title('NaN Values in DataFrame')\n",
    "\n",
    "# Show the plot\n",
    "plt.show()"
   ]
  },
  {
   "cell_type": "markdown",
   "id": "ad46ab00",
   "metadata": {},
   "source": [
    "# now let's brows to the amazon website and the order of the things i checked with respect to a product are:\n",
    "1. price\n",
    "2. ratings\n",
    "3. provider\n",
    "4. description and \n",
    "5. customer review\n",
    "let's analyze the given dtaframe on the considered points"
   ]
  },
  {
   "cell_type": "code",
   "execution_count": 74,
   "id": "18c112a0",
   "metadata": {},
   "outputs": [
    {
     "data": {
      "text/html": [
       "<div>\n",
       "<style scoped>\n",
       "    .dataframe tbody tr th:only-of-type {\n",
       "        vertical-align: middle;\n",
       "    }\n",
       "\n",
       "    .dataframe tbody tr th {\n",
       "        vertical-align: top;\n",
       "    }\n",
       "\n",
       "    .dataframe thead th {\n",
       "        text-align: right;\n",
       "    }\n",
       "</style>\n",
       "<table border=\"1\" class=\"dataframe\">\n",
       "  <thead>\n",
       "    <tr style=\"text-align: right;\">\n",
       "      <th></th>\n",
       "      <th>name</th>\n",
       "      <th>main_category</th>\n",
       "      <th>sub_category</th>\n",
       "      <th>image</th>\n",
       "      <th>link</th>\n",
       "      <th>ratings</th>\n",
       "      <th>no_of_ratings</th>\n",
       "      <th>discount_price</th>\n",
       "      <th>actual_price</th>\n",
       "    </tr>\n",
       "  </thead>\n",
       "  <tbody>\n",
       "    <tr>\n",
       "      <th>76</th>\n",
       "      <td>LG 1.5 Ton 3 Star Hot &amp; Cold DUAL Inverter Spl...</td>\n",
       "      <td>appliances</td>\n",
       "      <td>Air Conditioners</td>\n",
       "      <td>https://m.media-amazon.com/images/I/51hbo8yQ1E...</td>\n",
       "      <td>https://www.amazon.in/LG-Inverter-Convertible-...</td>\n",
       "      <td>4.0</td>\n",
       "      <td>265.0</td>\n",
       "      <td>NaN</td>\n",
       "      <td>NaN</td>\n",
       "    </tr>\n",
       "    <tr>\n",
       "      <th>100</th>\n",
       "      <td>Hitachi 1.5 Ton 5 Star Inverter Split AC (Copp...</td>\n",
       "      <td>appliances</td>\n",
       "      <td>Air Conditioners</td>\n",
       "      <td>https://m.media-amazon.com/images/I/41AY1pk5oR...</td>\n",
       "      <td>https://www.amazon.in/Hitachi-Inverter-Copper-...</td>\n",
       "      <td>3.8</td>\n",
       "      <td>748.0</td>\n",
       "      <td>NaN</td>\n",
       "      <td>NaN</td>\n",
       "    </tr>\n",
       "  </tbody>\n",
       "</table>\n",
       "</div>"
      ],
      "text/plain": [
       "                                                  name main_category  \\\n",
       "76   LG 1.5 Ton 3 Star Hot & Cold DUAL Inverter Spl...    appliances   \n",
       "100  Hitachi 1.5 Ton 5 Star Inverter Split AC (Copp...    appliances   \n",
       "\n",
       "         sub_category                                              image  \\\n",
       "76   Air Conditioners  https://m.media-amazon.com/images/I/51hbo8yQ1E...   \n",
       "100  Air Conditioners  https://m.media-amazon.com/images/I/41AY1pk5oR...   \n",
       "\n",
       "                                                  link  ratings  \\\n",
       "76   https://www.amazon.in/LG-Inverter-Convertible-...      4.0   \n",
       "100  https://www.amazon.in/Hitachi-Inverter-Copper-...      3.8   \n",
       "\n",
       "     no_of_ratings  discount_price  actual_price  \n",
       "76           265.0             NaN           NaN  \n",
       "100          748.0             NaN           NaN  "
      ]
     },
     "execution_count": 74,
     "metadata": {},
     "output_type": "execute_result"
    }
   ],
   "source": [
    "#following is the dta frame of missing ratings\n",
    "\n",
    "missing_price=final_df[final_df['actual_price'].isnull()]\n",
    "missing_price.head(2)\n"
   ]
  },
  {
   "cell_type": "code",
   "execution_count": 75,
   "id": "17caefee",
   "metadata": {
    "scrolled": false
   },
   "outputs": [
    {
     "data": {
      "text/html": [
       "<div>\n",
       "<style scoped>\n",
       "    .dataframe tbody tr th:only-of-type {\n",
       "        vertical-align: middle;\n",
       "    }\n",
       "\n",
       "    .dataframe tbody tr th {\n",
       "        vertical-align: top;\n",
       "    }\n",
       "\n",
       "    .dataframe thead th {\n",
       "        text-align: right;\n",
       "    }\n",
       "</style>\n",
       "<table border=\"1\" class=\"dataframe\">\n",
       "  <thead>\n",
       "    <tr style=\"text-align: right;\">\n",
       "      <th></th>\n",
       "      <th>name</th>\n",
       "      <th>main_category</th>\n",
       "      <th>sub_category</th>\n",
       "      <th>image</th>\n",
       "      <th>link</th>\n",
       "      <th>ratings</th>\n",
       "      <th>no_of_ratings</th>\n",
       "      <th>discount_price</th>\n",
       "      <th>actual_price</th>\n",
       "    </tr>\n",
       "  </thead>\n",
       "  <tbody>\n",
       "    <tr>\n",
       "      <th>0</th>\n",
       "      <td>Lloyd 1.5 Ton 3 Star Inverter Split Ac (5 In 1...</td>\n",
       "      <td>appliances</td>\n",
       "      <td>Air Conditioners</td>\n",
       "      <td>https://m.media-amazon.com/images/I/31UISB90sY...</td>\n",
       "      <td>https://www.amazon.in/Lloyd-Inverter-Convertib...</td>\n",
       "      <td>4.2</td>\n",
       "      <td>16.0</td>\n",
       "      <td>32999.0</td>\n",
       "      <td>58990.0</td>\n",
       "    </tr>\n",
       "    <tr>\n",
       "      <th>1</th>\n",
       "      <td>LG 1.5 Ton 5 Star AI DUAL Inverter Split AC (C...</td>\n",
       "      <td>appliances</td>\n",
       "      <td>Air Conditioners</td>\n",
       "      <td>https://m.media-amazon.com/images/I/51JFb7FctD...</td>\n",
       "      <td>https://www.amazon.in/LG-Convertible-Anti-Viru...</td>\n",
       "      <td>4.2</td>\n",
       "      <td>16.0</td>\n",
       "      <td>46490.0</td>\n",
       "      <td>75990.0</td>\n",
       "    </tr>\n",
       "  </tbody>\n",
       "</table>\n",
       "</div>"
      ],
      "text/plain": [
       "                                                name main_category  \\\n",
       "0  Lloyd 1.5 Ton 3 Star Inverter Split Ac (5 In 1...    appliances   \n",
       "1  LG 1.5 Ton 5 Star AI DUAL Inverter Split AC (C...    appliances   \n",
       "\n",
       "       sub_category                                              image  \\\n",
       "0  Air Conditioners  https://m.media-amazon.com/images/I/31UISB90sY...   \n",
       "1  Air Conditioners  https://m.media-amazon.com/images/I/51JFb7FctD...   \n",
       "\n",
       "                                                link  ratings  no_of_ratings  \\\n",
       "0  https://www.amazon.in/Lloyd-Inverter-Convertib...      4.2           16.0   \n",
       "1  https://www.amazon.in/LG-Convertible-Anti-Viru...      4.2           16.0   \n",
       "\n",
       "   discount_price  actual_price  \n",
       "0         32999.0       58990.0  \n",
       "1         46490.0       75990.0  "
      ]
     },
     "execution_count": 75,
     "metadata": {},
     "output_type": "execute_result"
    }
   ],
   "source": [
    "#we can't analyze further due to the non availablity of the price for above devices, let's drop these entries\n",
    "df=final_df.dropna(subset=['actual_price','discount_price'])\n",
    "df.head(2)"
   ]
  },
  {
   "cell_type": "markdown",
   "id": "68022f1b",
   "metadata": {},
   "source": [
    "# Extract the manufacturer from the 'name' column\n",
    "Extract the manufacturer from the 'name' column and insert the 'manufacturer' column after the 'name' column. To do this, we convert the 'name' column (type 'Series') into a string, split by spaces and select the first substring. We will have some incorrect names (such as 'The', 'Van', etc.) for brands which names consists of more than one word. But for many others it is okay. And I think this is enought to obtain general understanding for our purposes."
   ]
  },
  {
   "cell_type": "code",
   "execution_count": 76,
   "id": "490e39ed",
   "metadata": {},
   "outputs": [
    {
     "name": "stderr",
     "output_type": "stream",
     "text": [
      "/var/folders/3t/5qtlv2451k3fkqv9ls22lmg00000gn/T/ipykernel_4021/2224828226.py:1: SettingWithCopyWarning: \n",
      "A value is trying to be set on a copy of a slice from a DataFrame.\n",
      "Try using .loc[row_indexer,col_indexer] = value instead\n",
      "\n",
      "See the caveats in the documentation: https://pandas.pydata.org/pandas-docs/stable/user_guide/indexing.html#returning-a-view-versus-a-copy\n",
      "  df['manufacturer'] = df['name'].str.split(' ').str[0]\n"
     ]
    },
    {
     "data": {
      "text/plain": [
       "['name',\n",
       " 'main_category',\n",
       " 'sub_category',\n",
       " 'image',\n",
       " 'link',\n",
       " 'ratings',\n",
       " 'no_of_ratings',\n",
       " 'discount_price',\n",
       " 'actual_price',\n",
       " 'manufacturer']"
      ]
     },
     "execution_count": 76,
     "metadata": {},
     "output_type": "execute_result"
    }
   ],
   "source": [
    "df['manufacturer'] = df['name'].str.split(' ').str[0]\n",
    "cols = df.columns.tolist()\n",
    "cols\n"
   ]
  },
  {
   "cell_type": "code",
   "execution_count": 77,
   "id": "870c4ea0",
   "metadata": {},
   "outputs": [],
   "source": [
    "cols = ['name',\n",
    " 'manufacturer',\n",
    " 'main_category',\n",
    " 'sub_category',\n",
    " 'image',\n",
    " 'link',\n",
    " 'ratings',\n",
    " 'no_of_ratings',\n",
    " 'discount_price',\n",
    " 'actual_price']"
   ]
  },
  {
   "cell_type": "code",
   "execution_count": 78,
   "id": "59a8d79e",
   "metadata": {},
   "outputs": [
    {
     "data": {
      "text/html": [
       "<div>\n",
       "<style scoped>\n",
       "    .dataframe tbody tr th:only-of-type {\n",
       "        vertical-align: middle;\n",
       "    }\n",
       "\n",
       "    .dataframe tbody tr th {\n",
       "        vertical-align: top;\n",
       "    }\n",
       "\n",
       "    .dataframe thead th {\n",
       "        text-align: right;\n",
       "    }\n",
       "</style>\n",
       "<table border=\"1\" class=\"dataframe\">\n",
       "  <thead>\n",
       "    <tr style=\"text-align: right;\">\n",
       "      <th></th>\n",
       "      <th>name</th>\n",
       "      <th>manufacturer</th>\n",
       "      <th>main_category</th>\n",
       "      <th>sub_category</th>\n",
       "      <th>image</th>\n",
       "      <th>link</th>\n",
       "      <th>ratings</th>\n",
       "      <th>no_of_ratings</th>\n",
       "      <th>discount_price</th>\n",
       "      <th>actual_price</th>\n",
       "    </tr>\n",
       "  </thead>\n",
       "  <tbody>\n",
       "    <tr>\n",
       "      <th>0</th>\n",
       "      <td>Lloyd 1.5 Ton 3 Star Inverter Split Ac (5 In 1...</td>\n",
       "      <td>Lloyd</td>\n",
       "      <td>appliances</td>\n",
       "      <td>Air Conditioners</td>\n",
       "      <td>https://m.media-amazon.com/images/I/31UISB90sY...</td>\n",
       "      <td>https://www.amazon.in/Lloyd-Inverter-Convertib...</td>\n",
       "      <td>4.2</td>\n",
       "      <td>16.0</td>\n",
       "      <td>32999.0</td>\n",
       "      <td>58990.0</td>\n",
       "    </tr>\n",
       "    <tr>\n",
       "      <th>1</th>\n",
       "      <td>LG 1.5 Ton 5 Star AI DUAL Inverter Split AC (C...</td>\n",
       "      <td>LG</td>\n",
       "      <td>appliances</td>\n",
       "      <td>Air Conditioners</td>\n",
       "      <td>https://m.media-amazon.com/images/I/51JFb7FctD...</td>\n",
       "      <td>https://www.amazon.in/LG-Convertible-Anti-Viru...</td>\n",
       "      <td>4.2</td>\n",
       "      <td>16.0</td>\n",
       "      <td>46490.0</td>\n",
       "      <td>75990.0</td>\n",
       "    </tr>\n",
       "  </tbody>\n",
       "</table>\n",
       "</div>"
      ],
      "text/plain": [
       "                                                name manufacturer  \\\n",
       "0  Lloyd 1.5 Ton 3 Star Inverter Split Ac (5 In 1...        Lloyd   \n",
       "1  LG 1.5 Ton 5 Star AI DUAL Inverter Split AC (C...           LG   \n",
       "\n",
       "  main_category      sub_category  \\\n",
       "0    appliances  Air Conditioners   \n",
       "1    appliances  Air Conditioners   \n",
       "\n",
       "                                               image  \\\n",
       "0  https://m.media-amazon.com/images/I/31UISB90sY...   \n",
       "1  https://m.media-amazon.com/images/I/51JFb7FctD...   \n",
       "\n",
       "                                                link  ratings  no_of_ratings  \\\n",
       "0  https://www.amazon.in/Lloyd-Inverter-Convertib...      4.2           16.0   \n",
       "1  https://www.amazon.in/LG-Convertible-Anti-Viru...      4.2           16.0   \n",
       "\n",
       "   discount_price  actual_price  \n",
       "0         32999.0       58990.0  \n",
       "1         46490.0       75990.0  "
      ]
     },
     "execution_count": 78,
     "metadata": {},
     "output_type": "execute_result"
    }
   ],
   "source": [
    "df = df[cols]\n",
    "df.head(2)"
   ]
  },
  {
   "cell_type": "code",
   "execution_count": 79,
   "id": "0180ec10",
   "metadata": {},
   "outputs": [
    {
     "name": "stdout",
     "output_type": "stream",
     "text": [
      "<class 'pandas.core.frame.DataFrame'>\n",
      "Int64Index: 457 entries, 0 to 715\n",
      "Data columns (total 10 columns):\n",
      " #   Column          Non-Null Count  Dtype  \n",
      "---  ------          --------------  -----  \n",
      " 0   name            457 non-null    object \n",
      " 1   manufacturer    457 non-null    object \n",
      " 2   main_category   457 non-null    object \n",
      " 3   sub_category    457 non-null    object \n",
      " 4   image           457 non-null    object \n",
      " 5   link            457 non-null    object \n",
      " 6   ratings         457 non-null    float64\n",
      " 7   no_of_ratings   457 non-null    float64\n",
      " 8   discount_price  457 non-null    float64\n",
      " 9   actual_price    457 non-null    float64\n",
      "dtypes: float64(4), object(6)\n",
      "memory usage: 39.3+ KB\n"
     ]
    }
   ],
   "source": [
    "df.info()"
   ]
  },
  {
   "cell_type": "code",
   "execution_count": 80,
   "id": "02e4fd3a",
   "metadata": {},
   "outputs": [],
   "source": [
    "# Make column with discount net value and discounting percent \n",
    "df['discount_value'] = df['actual_price'] - df['discount_price']\n",
    "df['discounting_percent'] = 1 - df['discount_price']/df['actual_price']"
   ]
  },
  {
   "cell_type": "code",
   "execution_count": 81,
   "id": "6e483a22",
   "metadata": {},
   "outputs": [
    {
     "data": {
      "text/html": [
       "<div>\n",
       "<style scoped>\n",
       "    .dataframe tbody tr th:only-of-type {\n",
       "        vertical-align: middle;\n",
       "    }\n",
       "\n",
       "    .dataframe tbody tr th {\n",
       "        vertical-align: top;\n",
       "    }\n",
       "\n",
       "    .dataframe thead th {\n",
       "        text-align: right;\n",
       "    }\n",
       "</style>\n",
       "<table border=\"1\" class=\"dataframe\">\n",
       "  <thead>\n",
       "    <tr style=\"text-align: right;\">\n",
       "      <th></th>\n",
       "      <th>name</th>\n",
       "      <th>manufacturer</th>\n",
       "      <th>main_category</th>\n",
       "      <th>sub_category</th>\n",
       "      <th>image</th>\n",
       "      <th>link</th>\n",
       "      <th>ratings</th>\n",
       "      <th>no_of_ratings</th>\n",
       "      <th>discount_price</th>\n",
       "      <th>actual_price</th>\n",
       "      <th>discount_value</th>\n",
       "      <th>discounting_percent</th>\n",
       "    </tr>\n",
       "  </thead>\n",
       "  <tbody>\n",
       "    <tr>\n",
       "      <th>0</th>\n",
       "      <td>Lloyd 1.5 Ton 3 Star Inverter Split Ac (5 In 1...</td>\n",
       "      <td>Lloyd</td>\n",
       "      <td>appliances</td>\n",
       "      <td>Air Conditioners</td>\n",
       "      <td>https://m.media-amazon.com/images/I/31UISB90sY...</td>\n",
       "      <td>https://www.amazon.in/Lloyd-Inverter-Convertib...</td>\n",
       "      <td>4.2</td>\n",
       "      <td>16.0</td>\n",
       "      <td>32999.0</td>\n",
       "      <td>58990.0</td>\n",
       "      <td>25991.0</td>\n",
       "      <td>0.440600</td>\n",
       "    </tr>\n",
       "    <tr>\n",
       "      <th>1</th>\n",
       "      <td>LG 1.5 Ton 5 Star AI DUAL Inverter Split AC (C...</td>\n",
       "      <td>LG</td>\n",
       "      <td>appliances</td>\n",
       "      <td>Air Conditioners</td>\n",
       "      <td>https://m.media-amazon.com/images/I/51JFb7FctD...</td>\n",
       "      <td>https://www.amazon.in/LG-Convertible-Anti-Viru...</td>\n",
       "      <td>4.2</td>\n",
       "      <td>16.0</td>\n",
       "      <td>46490.0</td>\n",
       "      <td>75990.0</td>\n",
       "      <td>29500.0</td>\n",
       "      <td>0.388209</td>\n",
       "    </tr>\n",
       "  </tbody>\n",
       "</table>\n",
       "</div>"
      ],
      "text/plain": [
       "                                                name manufacturer  \\\n",
       "0  Lloyd 1.5 Ton 3 Star Inverter Split Ac (5 In 1...        Lloyd   \n",
       "1  LG 1.5 Ton 5 Star AI DUAL Inverter Split AC (C...           LG   \n",
       "\n",
       "  main_category      sub_category  \\\n",
       "0    appliances  Air Conditioners   \n",
       "1    appliances  Air Conditioners   \n",
       "\n",
       "                                               image  \\\n",
       "0  https://m.media-amazon.com/images/I/31UISB90sY...   \n",
       "1  https://m.media-amazon.com/images/I/51JFb7FctD...   \n",
       "\n",
       "                                                link  ratings  no_of_ratings  \\\n",
       "0  https://www.amazon.in/Lloyd-Inverter-Convertib...      4.2           16.0   \n",
       "1  https://www.amazon.in/LG-Convertible-Anti-Viru...      4.2           16.0   \n",
       "\n",
       "   discount_price  actual_price  discount_value  discounting_percent  \n",
       "0         32999.0       58990.0         25991.0             0.440600  \n",
       "1         46490.0       75990.0         29500.0             0.388209  "
      ]
     },
     "execution_count": 81,
     "metadata": {},
     "output_type": "execute_result"
    }
   ],
   "source": [
    "df.head(2)"
   ]
  },
  {
   "cell_type": "code",
   "execution_count": 82,
   "id": "ea545251",
   "metadata": {},
   "outputs": [
    {
     "data": {
      "text/html": [
       "<div>\n",
       "<style scoped>\n",
       "    .dataframe tbody tr th:only-of-type {\n",
       "        vertical-align: middle;\n",
       "    }\n",
       "\n",
       "    .dataframe tbody tr th {\n",
       "        vertical-align: top;\n",
       "    }\n",
       "\n",
       "    .dataframe thead th {\n",
       "        text-align: right;\n",
       "    }\n",
       "</style>\n",
       "<table border=\"1\" class=\"dataframe\">\n",
       "  <thead>\n",
       "    <tr style=\"text-align: right;\">\n",
       "      <th></th>\n",
       "      <th>actual_price</th>\n",
       "    </tr>\n",
       "    <tr>\n",
       "      <th>manufacturer</th>\n",
       "      <th></th>\n",
       "    </tr>\n",
       "  </thead>\n",
       "  <tbody>\n",
       "    <tr>\n",
       "      <th>MEGACOOL</th>\n",
       "      <td>124500.0</td>\n",
       "    </tr>\n",
       "    <tr>\n",
       "      <th>Voltas Venture i Cassette 3Ph Scroll SAC(C2-N)</th>\n",
       "      <td>120490.0</td>\n",
       "    </tr>\n",
       "    <tr>\n",
       "      <th>iMee-1.5</th>\n",
       "      <td>89999.0</td>\n",
       "    </tr>\n",
       "    <tr>\n",
       "      <th>MITSUBISHI</th>\n",
       "      <td>83000.0</td>\n",
       "    </tr>\n",
       "    <tr>\n",
       "      <th>2.0</th>\n",
       "      <td>73750.0</td>\n",
       "    </tr>\n",
       "    <tr>\n",
       "      <th>...</th>\n",
       "      <td>...</td>\n",
       "    </tr>\n",
       "    <tr>\n",
       "      <th>ThreeH</th>\n",
       "      <td>1449.0</td>\n",
       "    </tr>\n",
       "    <tr>\n",
       "      <th>QAWACHH</th>\n",
       "      <td>1399.0</td>\n",
       "    </tr>\n",
       "    <tr>\n",
       "      <th>Hexzone®</th>\n",
       "      <td>1349.0</td>\n",
       "    </tr>\n",
       "    <tr>\n",
       "      <th>Hexzone</th>\n",
       "      <td>1249.0</td>\n",
       "    </tr>\n",
       "    <tr>\n",
       "      <th>RISARYA</th>\n",
       "      <td>499.0</td>\n",
       "    </tr>\n",
       "  </tbody>\n",
       "</table>\n",
       "<p>76 rows × 1 columns</p>\n",
       "</div>"
      ],
      "text/plain": [
       "                                                actual_price\n",
       "manufacturer                                                \n",
       "MEGACOOL                                            124500.0\n",
       "Voltas Venture i Cassette 3Ph Scroll SAC(C2-N)      120490.0\n",
       "iMee-1.5                                             89999.0\n",
       "MITSUBISHI                                           83000.0\n",
       "2.0                                                  73750.0\n",
       "...                                                      ...\n",
       "ThreeH                                                1449.0\n",
       "QAWACHH                                               1399.0\n",
       "Hexzone®                                              1349.0\n",
       "Hexzone                                               1249.0\n",
       "RISARYA                                                499.0\n",
       "\n",
       "[76 rows x 1 columns]"
      ]
     },
     "execution_count": 82,
     "metadata": {},
     "output_type": "execute_result"
    }
   ],
   "source": [
    "df[[\"actual_price\", 'manufacturer']].groupby(\"manufacturer\").mean().round(2).sort_values(by = \"actual_price\",\n",
    "                                                                    ascending = False)\n"
   ]
  },
  {
   "cell_type": "code",
   "execution_count": 83,
   "id": "dbac83f7",
   "metadata": {},
   "outputs": [
    {
     "data": {
      "text/html": [
       "<div>\n",
       "<style scoped>\n",
       "    .dataframe tbody tr th:only-of-type {\n",
       "        vertical-align: middle;\n",
       "    }\n",
       "\n",
       "    .dataframe tbody tr th {\n",
       "        vertical-align: top;\n",
       "    }\n",
       "\n",
       "    .dataframe thead th {\n",
       "        text-align: right;\n",
       "    }\n",
       "</style>\n",
       "<table border=\"1\" class=\"dataframe\">\n",
       "  <thead>\n",
       "    <tr style=\"text-align: right;\">\n",
       "      <th></th>\n",
       "      <th>name</th>\n",
       "      <th>manufacturer</th>\n",
       "      <th>main_category</th>\n",
       "      <th>sub_category</th>\n",
       "      <th>image</th>\n",
       "      <th>link</th>\n",
       "      <th>ratings</th>\n",
       "      <th>no_of_ratings</th>\n",
       "      <th>discount_price</th>\n",
       "      <th>actual_price</th>\n",
       "      <th>discount_value</th>\n",
       "      <th>discounting_percent</th>\n",
       "    </tr>\n",
       "  </thead>\n",
       "  <tbody>\n",
       "    <tr>\n",
       "      <th>460</th>\n",
       "      <td>Voltas 3Ph Scroll SAC C2-NVenture I-Cassette A...</td>\n",
       "      <td>Voltas</td>\n",
       "      <td>appliances</td>\n",
       "      <td>Air Conditioners</td>\n",
       "      <td>https://m.media-amazon.com/images/I/31lyjrJOXs...</td>\n",
       "      <td>https://www.amazon.in/Voltas-Scroll-SAC-C2-NVe...</td>\n",
       "      <td>5.0</td>\n",
       "      <td>2.0</td>\n",
       "      <td>128800.0</td>\n",
       "      <td>149000.0</td>\n",
       "      <td>20200.0</td>\n",
       "      <td>0.13557</td>\n",
       "    </tr>\n",
       "  </tbody>\n",
       "</table>\n",
       "</div>"
      ],
      "text/plain": [
       "                                                  name manufacturer  \\\n",
       "460  Voltas 3Ph Scroll SAC C2-NVenture I-Cassette A...       Voltas   \n",
       "\n",
       "    main_category      sub_category  \\\n",
       "460    appliances  Air Conditioners   \n",
       "\n",
       "                                                 image  \\\n",
       "460  https://m.media-amazon.com/images/I/31lyjrJOXs...   \n",
       "\n",
       "                                                  link  ratings  \\\n",
       "460  https://www.amazon.in/Voltas-Scroll-SAC-C2-NVe...      5.0   \n",
       "\n",
       "     no_of_ratings  discount_price  actual_price  discount_value  \\\n",
       "460            2.0        128800.0      149000.0         20200.0   \n",
       "\n",
       "     discounting_percent  \n",
       "460              0.13557  "
      ]
     },
     "execution_count": 83,
     "metadata": {},
     "output_type": "execute_result"
    }
   ],
   "source": [
    "# Detail of the maximum price row\n",
    "df[df[\"actual_price\"] == df[\"actual_price\"].max()]"
   ]
  },
  {
   "cell_type": "code",
   "execution_count": 84,
   "id": "e5bbd73a",
   "metadata": {},
   "outputs": [
    {
     "data": {
      "text/html": [
       "<div>\n",
       "<style scoped>\n",
       "    .dataframe tbody tr th:only-of-type {\n",
       "        vertical-align: middle;\n",
       "    }\n",
       "\n",
       "    .dataframe tbody tr th {\n",
       "        vertical-align: top;\n",
       "    }\n",
       "\n",
       "    .dataframe thead th {\n",
       "        text-align: right;\n",
       "    }\n",
       "</style>\n",
       "<table border=\"1\" class=\"dataframe\">\n",
       "  <thead>\n",
       "    <tr style=\"text-align: right;\">\n",
       "      <th></th>\n",
       "      <th>name</th>\n",
       "      <th>manufacturer</th>\n",
       "      <th>main_category</th>\n",
       "      <th>sub_category</th>\n",
       "      <th>image</th>\n",
       "      <th>link</th>\n",
       "      <th>ratings</th>\n",
       "      <th>no_of_ratings</th>\n",
       "      <th>discount_price</th>\n",
       "      <th>actual_price</th>\n",
       "      <th>discount_value</th>\n",
       "      <th>discounting_percent</th>\n",
       "    </tr>\n",
       "  </thead>\n",
       "  <tbody>\n",
       "    <tr>\n",
       "      <th>187</th>\n",
       "      <td>ThreeH USB Fan Silent Mini Air Conditioner Tra...</td>\n",
       "      <td>ThreeH</td>\n",
       "      <td>appliances</td>\n",
       "      <td>Air Conditioners</td>\n",
       "      <td>https://m.media-amazon.com/images/I/31c+t5O9dP...</td>\n",
       "      <td>https://www.amazon.in/ThreeH-Conditioner-Handh...</td>\n",
       "      <td>4.0</td>\n",
       "      <td>16.0</td>\n",
       "      <td>1219.0</td>\n",
       "      <td>1449.0</td>\n",
       "      <td>230.0</td>\n",
       "      <td>0.15873</td>\n",
       "    </tr>\n",
       "  </tbody>\n",
       "</table>\n",
       "</div>"
      ],
      "text/plain": [
       "                                                  name manufacturer  \\\n",
       "187  ThreeH USB Fan Silent Mini Air Conditioner Tra...       ThreeH   \n",
       "\n",
       "    main_category      sub_category  \\\n",
       "187    appliances  Air Conditioners   \n",
       "\n",
       "                                                 image  \\\n",
       "187  https://m.media-amazon.com/images/I/31c+t5O9dP...   \n",
       "\n",
       "                                                  link  ratings  \\\n",
       "187  https://www.amazon.in/ThreeH-Conditioner-Handh...      4.0   \n",
       "\n",
       "     no_of_ratings  discount_price  actual_price  discount_value  \\\n",
       "187           16.0          1219.0        1449.0           230.0   \n",
       "\n",
       "     discounting_percent  \n",
       "187              0.15873  "
      ]
     },
     "execution_count": 84,
     "metadata": {},
     "output_type": "execute_result"
    }
   ],
   "source": [
    "# Detail of the minimum price row\n",
    "df[df[\"discount_value\"] == df[\"discount_value\"].min()]"
   ]
  },
  {
   "cell_type": "code",
   "execution_count": 105,
   "id": "ea297ead",
   "metadata": {},
   "outputs": [
    {
     "data": {
      "text/plain": [
       "['Lloyd',\n",
       " 'LG',\n",
       " 'Carrier',\n",
       " 'Voltas',\n",
       " 'Daikin',\n",
       " 'Panasonic',\n",
       " 'Whirlpool',\n",
       " 'Samsung',\n",
       " 'Godrej',\n",
       " 'Blue']"
      ]
     },
     "execution_count": 105,
     "metadata": {},
     "output_type": "execute_result"
    }
   ],
   "source": [
    "# Let us check the common manufacture\n",
    "values = df[\"manufacturer\"].unique().tolist()[:10]\n",
    "values"
   ]
  },
  {
   "cell_type": "code",
   "execution_count": 106,
   "id": "22f44237",
   "metadata": {},
   "outputs": [
    {
     "data": {
      "text/plain": [
       "[64, 52, 37, 35, 31, 24, 23, 22, 14, 13]"
      ]
     },
     "execution_count": 106,
     "metadata": {},
     "output_type": "execute_result"
    }
   ],
   "source": [
    "counts = df[\"manufacturer\"].value_counts().tolist()[:10]\n",
    "counts"
   ]
  },
  {
   "cell_type": "code",
   "execution_count": 107,
   "id": "394847c3",
   "metadata": {},
   "outputs": [
    {
     "data": {
      "text/plain": [
       "<BarContainer object of 10 artists>"
      ]
     },
     "execution_count": 107,
     "metadata": {},
     "output_type": "execute_result"
    },
    {
     "data": {
      "image/png": "[encoded data removed]",
      "text/plain": [
       "<Figure size 640x480 with 1 Axes>"
      ]
     },
     "metadata": {},
     "output_type": "display_data"
    }
   ],
   "source": [
    "plt.bar(values,counts,figsize=(10,8))"
   ]
  },
  {
   "cell_type": "code",
   "execution_count": 109,
   "id": "ebb32308",
   "metadata": {},
   "outputs": [],
   "source": [
    "# Lloyd is manufacturing most of the airconditioners"
   ]
  },
  {
   "cell_type": "code",
   "execution_count": null,
   "id": "e6d6066a",
   "metadata": {},
   "outputs": [],
   "source": []
  }
 ],
 "metadata": {
  "kernelspec": {
   "display_name": "Python 3 (ipykernel)",
   "language": "python",
   "name": "python3"
  },
  "language_info": {
   "codemirror_mode": {
    "name": "ipython",
    "version": 3
   },
   "file_extension": ".py",
   "mimetype": "text/x-python",
   "name": "python",
   "nbconvert_exporter": "python",
   "pygments_lexer": "ipython3",
   "version": "3.11.4"
  }
 },
 "nbformat": 4,
 "nbformat_minor": 5
}
